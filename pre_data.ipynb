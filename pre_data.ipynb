{
 "cells": [
  {
   "cell_type": "code",
   "execution_count": 3,
   "metadata": {},
   "outputs": [
    {
     "name": "stdout",
     "output_type": "stream",
     "text": [
      "Lọc dữ liệu thành công. Dữ liệu đã lưu vào: filtered.json\n"
     ]
    }
   ],
   "source": [
    "import json\n",
    "\n",
    "# Đường dẫn tệp JSON gốc và tệp JSON đã lọc\n",
    "input_file = r\"D:\\Subject\\IE402_HeThongThongTinDiaLy3Chieu\\ProjectFinal\\dataset_google-maps-extractor_2024-12-24_14-20-20-023.json\"\n",
    "output_file = \"filtered.json\"\n",
    "\n",
    "# Đọc và lọc dữ liệu\n",
    "try:\n",
    "    with open(input_file, 'r', encoding='utf-8') as infile:\n",
    "        # Đọc dữ liệu JSON gốc\n",
    "        data = json.load(infile)\n",
    "        \n",
    "        # Lọc dữ liệu theo yêu cầu\n",
    "        filtered_data = []\n",
    "        for item in data:  # Trường hợp tệp JSON chứa danh sách các đối tượng\n",
    "            # Chuyển đổi openingHours theo định dạng yêu cầu\n",
    "            formatted_opening_hours = []\n",
    "            for entry in item.get(\"openingHours\", []):\n",
    "                day = entry.get(\"day\", \"\")\n",
    "                hours = entry.get(\"hours\", \"\")\n",
    "                formatted_opening_hours.append(f'\"{day}\" \"{hours}\"')\n",
    "\n",
    "            filtered_item = {\n",
    "                \"searchString\": item.get(\"searchString\"),\n",
    "                \"rank\": item.get(\"rank\"),\n",
    "                \"title\": item.get(\"title\"),\n",
    "                \"address\": item.get(\"address\"),\n",
    "                \"website\": item.get(\"searchPageUrl\"),\n",
    "                \"phone\": item.get(\"phone\"),\n",
    "                \"lat\": item.get(\"location\", {}).get(\"lat\"),\n",
    "                \"lng\": item.get(\"location\", {}).get(\"lng\"),\n",
    "                \"totalScore\": item.get(\"totalScore\"),\n",
    "                \"placeId\": item.get(\"placeId\"),\n",
    "                \"categoryName\": item.get(\"categoryName\"),\n",
    "                \"reviewsCount\": item.get(\"reviewsCount\"),\n",
    "                \"openingHours\": formatted_opening_hours,  # Đưa dữ liệu đã chuyển đổi vào\n",
    "                \"imageUrl\": item.get(\"imageUrl\"),\n",
    "                \"url\": item.get(\"url\")\n",
    "            }\n",
    "            filtered_data.append(filtered_item)\n",
    "\n",
    "    # Ghi dữ liệu đã lọc ra tệp mới\n",
    "    with open(output_file, 'w', encoding='utf-8') as outfile:\n",
    "        json.dump(filtered_data, outfile, ensure_ascii=False, indent=4)\n",
    "    \n",
    "    print(\"Lọc dữ liệu thành công. Dữ liệu đã lưu vào:\", output_file)\n",
    "\n",
    "except FileNotFoundError:\n",
    "    print(f\"Lỗi: Tệp đầu vào '{input_file}' không tồn tại.\")\n",
    "except json.JSONDecodeError:\n",
    "    print(\"Lỗi: Dữ liệu trong tệp không phải là JSON hợp lệ.\")\n",
    "except Exception as e:\n",
    "    print(f\"Đã xảy ra lỗi: {e}\")\n"
   ]
  },
  {
   "cell_type": "code",
   "execution_count": 4,
   "metadata": {},
   "outputs": [],
   "source": [
    "import pandas as pd\n",
    "\n",
    "# Đọc file JSON\n",
    "df = pd.read_json('filtered.json')\n",
    "\n",
    "# Chuyển đổi sang CSV và lưu vào file mới\n",
    "df.to_csv('filtered.csv', index=False)"
   ]
  },
  {
   "cell_type": "code",
   "execution_count": null,
   "metadata": {},
   "outputs": [],
   "source": []
  }
 ],
 "metadata": {
  "kernelspec": {
   "display_name": "Python 3",
   "language": "python",
   "name": "python3"
  },
  "language_info": {
   "codemirror_mode": {
    "name": "ipython",
    "version": 3
   },
   "file_extension": ".py",
   "mimetype": "text/x-python",
   "name": "python",
   "nbconvert_exporter": "python",
   "pygments_lexer": "ipython3",
   "version": "3.12.2"
  }
 },
 "nbformat": 4,
 "nbformat_minor": 2
}
